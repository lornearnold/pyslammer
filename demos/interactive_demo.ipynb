{
 "cells": [
  {
   "cell_type": "markdown",
   "metadata": {},
   "source": [
    "# pyslammer demo: interactive notebook \n",
    "This notebook shows an example use case of pyslammer for using interactive widgets to control pyslammer parameters and inspect the results. \n",
    "This approach is best suited for exploration and teaching.\n",
    "\n",
    "*The code cells below are supposed to be hidden... I gen get that to work using my JupyterLab settings, but not in the notebook itself. I'll need to look into that. These should possibly be hosted on jupyterlite so we can control the whole environment.*"
   ]
  },
  {
   "cell_type": "code",
   "execution_count": null,
   "metadata": {},
   "outputs": [],
   "source": [
    "# If running in Jupyterlite with Pyodide, install the ipywidgets package\n",
    "%pip install -q ipywidgets"
   ]
  },
  {
   "cell_type": "code",
   "execution_count": 1,
   "metadata": {},
   "outputs": [],
   "source": [
    "%matplotlib widget\n",
    "import sys\n",
    "sys.path.append(\"../pyslammer\")\n",
    "import matplotlib.pyplot as plt\n",
    "import ipywidgets as widgets\n",
    "import pyslammer as slam\n",
    "import demo_widgets as dw\n"
   ]
  },
  {
   "cell_type": "code",
   "execution_count": 2,
   "metadata": {},
   "outputs": [],
   "source": [
    "# Set up widgets for later use:\n",
    "# NOTE: having these \"hidden\" by default does not work well. Can I do the notebook setup inside of pySLAMMER? That would be ideal.\n",
    "# Defining the yield acceleration\n"
   ]
  },
  {
   "cell_type": "markdown",
   "metadata": {},
   "source": [
    "# Setup\n",
    "\n",
    "Assumes pySLAMMER is installed. Will need to document how to install somewhere.\n",
    "\n",
    "First, import pySLAMMER using:\n",
    "\n",
    "```python\n",
    "import pylammer as slam\n",
    "```"
   ]
  },
  {
   "cell_type": "markdown",
   "metadata": {},
   "source": [
    "# Input\n",
    "\n",
    "Running an sliding block analysis with pySLAMMER requires at least two sets of input: 1) Slope parameters, and 2) a ground motion.\n",
    "\n",
    "## Slope Parameters\n",
    "\n",
    "For any analysis type, a yield acceleration, $k_y$, is needed. If coupled or decoupled analysis is performed, additional inputs are required. For any analysis type, at least one value of $k_y$ is needed, but $k_y$ can also be a function of displacement.\n",
    "\n",
    "**Widget Input** the $k_y$ value in a textbox that only allows for numeric input (float).\n",
    "\n",
    "```python\n",
    "ky = 0.5 % g\n",
    "```\n",
    "## Ground motion\n",
    "\n",
    "Default assumption: a recorded ground motion\n",
    "\n",
    "Widget Select record, input desired PGA"
   ]
  },
  {
   "cell_type": "markdown",
   "metadata": {},
   "source": [
    "## Interactive analysis widget\n",
    "After running the code cell below, an interactive widget panel displays beneath.\n",
    "At this time, $k_y$ is the only parameter to vary (coupled and decoupled simulation types and ground motions other than the Northridge_VSP_360 recording have not been implemented).\n",
    "\n",
    "Assuming \"Northridge\" is selected for input motion and \"Rigid\" is selected for analysis type, clicking on the **Run Analysis** button should run pyslammer with the selected parameters and plot the results."
   ]
  },
  {
   "cell_type": "code",
   "execution_count": 3,
   "metadata": {},
   "outputs": [
    {
     "data": {
      "application/vnd.jupyter.widget-view+json": {
       "model_id": "0e31d93d835543b59e03a7442fac035b",
       "version_major": 2,
       "version_minor": 0
      },
      "text/plain": [
       "BoundedFloatText(value=0.35, description='k_y (g):', max=5.0, step=0.01)"
      ]
     },
     "metadata": {},
     "output_type": "display_data"
    },
    {
     "data": {
      "application/vnd.jupyter.widget-view+json": {
       "model_id": "f1941af8cde14966841fe22bbfc23275",
       "version_major": 2,
       "version_minor": 0
      },
      "text/plain": [
       "ToggleButtons(description='Analysis type:', options=('Rigid', 'Decoupled', 'Coupled'), value='Rigid')"
      ]
     },
     "metadata": {},
     "output_type": "display_data"
    },
    {
     "data": {
      "application/vnd.jupyter.widget-view+json": {
       "model_id": "8ba27dec6fd5473bb721343f6d129f2b",
       "version_major": 2,
       "version_minor": 0
      },
      "text/plain": [
       "Dropdown(description='Select ground motion:', options=(('Northridge', 'Northridge_VSP-360.csv'), ('Loma Prieta…"
      ]
     },
     "metadata": {},
     "output_type": "display_data"
    },
    {
     "data": {
      "application/vnd.jupyter.widget-view+json": {
       "model_id": "9dd272b3e63f49d081125be0245a2a0a",
       "version_major": 2,
       "version_minor": 0
      },
      "text/plain": [
       "Button(button_style='warning', description='Run Analysis', icon='brave', style=ButtonStyle(), tooltip='Run Ana…"
      ]
     },
     "metadata": {},
     "output_type": "display_data"
    },
    {
     "data": {
      "application/vnd.jupyter.widget-view+json": {
       "model_id": "e5ea64adc4b847dba92c72954dbb3d41",
       "version_major": 2,
       "version_minor": 0
      },
      "text/plain": [
       "Output()"
      ]
     },
     "metadata": {},
     "output_type": "display_data"
    }
   ],
   "source": [
    "def run_analysis(a=None):\n",
    "    if analysis_widget.value != 'Rigid':\n",
    "        print(\"Sorry, that model type hasn't been implemented yet.\")\n",
    "    else:\n",
    "        g = 9.81\n",
    "        tHist = slam.normModeTimeHist(f'sample_ground_motions/{gm_widget.value}')\n",
    "        ky = ky_widget.value*g\n",
    "        gAcc, gVel, bVel, bDisp, t = slam.downslopeAnalysis(tHist,ky)\n",
    "        plt.close('all')\n",
    "        fig, axs = slam.plotOutput(gAcc,gVel,bVel,bDisp,t,ky/g)\n",
    "        plt.show()\n",
    "    \n",
    "def on_button_clicked(a):\n",
    "    with out:\n",
    "        out.clear_output()\n",
    "        run_analysis()\n",
    "\n",
    "out = widgets.Output()\n",
    "[gm_widget, ky_widget, analysis_widget, start_widget] = dw.setup_widgets()\n",
    "\n",
    "display(ky_widget)\n",
    "display(analysis_widget)\n",
    "display(gm_widget)\n",
    "display(start_widget)\n",
    "display(out)\n",
    "\n",
    "start_widget.on_click(on_button_clicked)"
   ]
  },
  {
   "cell_type": "code",
   "execution_count": null,
   "metadata": {},
   "outputs": [],
   "source": []
  }
 ],
 "metadata": {
  "kernelspec": {
   "display_name": "base",
   "language": "python",
   "name": "python3"
  },
  "language_info": {
   "codemirror_mode": {
    "name": "ipython",
    "version": 3
   },
   "file_extension": ".py",
   "mimetype": "text/x-python",
   "name": "python",
   "nbconvert_exporter": "python",
   "pygments_lexer": "ipython3",
   "version": "3.11.8"
  }
 },
 "nbformat": 4,
 "nbformat_minor": 2
}
