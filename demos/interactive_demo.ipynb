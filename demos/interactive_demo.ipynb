{
 "cells": [
  {
   "cell_type": "markdown",
   "metadata": {},
   "source": [
    "# pyslammer demo: interactive notebook \n",
    "This notebook shows an example use case of pyslammer for using interactive widgets to control pyslammer parameters and inspect the results. \n",
    "This approach is best suited for exploration and teaching."
   ]
  },
  {
   "cell_type": "code",
   "metadata": {
    "ExecuteTime": {
     "end_time": "2024-10-21T21:25:30.517584Z",
     "start_time": "2024-10-21T21:25:29.926264Z"
    }
   },
   "source": [
    "# If running in Jupyterlite with Pyodide, install the additional packages\n",
    "# %pip install pyslammer\n",
    "# %pip install pandas\n",
    "# %pip install ipywidgets\n",
    "# %pip install numpy\n",
    "# %pip install sympy\n",
    "# %pip install scipy\n",
    "# %pip install matplotlib\n",
    "# %pip install ipympl\n",
    "%matplotlib widget"
   ],
   "outputs": [],
   "execution_count": 1
  },
  {
   "cell_type": "markdown",
   "metadata": {},
   "source": [
    "# Setup\n",
    "\n",
    "Assumes pySLAMMER is installed. Will need to document how to install somewhere.\n",
    "\n",
    "Eventually, these should get intalled in a single import:\n",
    "\n",
    "```python\n",
    "import pylammer as slam\n",
    "```"
   ]
  },
  {
   "cell_type": "code",
   "metadata": {
    "ExecuteTime": {
     "end_time": "2024-10-21T21:25:30.522126Z",
     "start_time": "2024-10-21T21:25:30.520641Z"
    }
   },
   "source": [
    "# If running on a local machine with the full pyslammer repository, just add the parent directory to the path\n",
    "import sys\n",
    "sys.path.append('..')"
   ],
   "outputs": [],
   "execution_count": 2
  },
  {
   "cell_type": "code",
   "metadata": {
    "ExecuteTime": {
     "end_time": "2024-10-21T21:25:32.752004Z",
     "start_time": "2024-10-21T21:25:30.581105Z"
    }
   },
   "source": [
    "# Import libraries\n",
    "import matplotlib.pyplot as plt\n",
    "import ipywidgets as widgets\n",
    "import pandas as pd\n",
    "import pyslammer as slam\n",
    "import pyslammer.demo_widgets as dw"
   ],
   "outputs": [],
   "execution_count": 3
  },
  {
   "cell_type": "markdown",
   "metadata": {},
   "source": [
    "# Input\n",
    "\n",
    "Running an sliding block analysis with pySLAMMER requires at least two sets of input: 1) Slope parameters, and 2) a ground motion.\n",
    "\n",
    "## Slope Parameters\n",
    "\n",
    "For any analysis type, a yield acceleration, $k_y$, is needed. If coupled or decoupled analysis is performed, additional inputs are required. For any analysis type, at least one value of $k_y$ is needed, but $k_y$ can also be a function of displacement.\n",
    "\n",
    "**Widget Input** the $k_y$ value in a textbox that only allows for numeric input (float).\n",
    "\n",
    "```python\n",
    "ky = 0.5 % g\n",
    "```\n",
    "## Ground motion\n",
    "\n",
    "Default assumption: a recorded ground motion\n",
    "\n",
    "Widget Select record, input desired PGA"
   ]
  },
  {
   "cell_type": "markdown",
   "metadata": {},
   "source": [
    "## Interactive analysis widget\n",
    "After running the code cell below, an interactive widget panel displays beneath.\n",
    "\n",
    "At this time, $k_y$ is the only slope parameter to vary (coupled and decoupled simulation types have not been implemented).\n",
    "\n",
    "A small set of pre-loaded recorded ground motions are availalbe through the `ground motion` widget.\n",
    "TODO: add ground motion scaling capability and widget.\n",
    "\n",
    "Assuming \"Rigid\" is selected for analysis type, clicking on the **Run Analysis** button should run pyslammer with the selected parameters and plot the results."
   ]
  },
  {
   "cell_type": "code",
   "metadata": {
    "ExecuteTime": {
     "end_time": "2024-10-21T21:25:32.844350Z",
     "start_time": "2024-10-21T21:25:32.758231Z"
    }
   },
   "source": [
    "def run_analysis(a=None):\n",
    "    if analysis_widget.value != 'Rigid':\n",
    "        print(\"Sorry, that model type hasn't been implemented yet.\")\n",
    "        result = None\n",
    "    else:\n",
    "        ky = ky_widget.value\n",
    "        result = slam.RigidAnalysis(gm_widget.value.accel,gm_widget.value.dt, ky)\n",
    "        plt.close('all')\n",
    "        fig, axs = result.sliding_block_plot()\n",
    "        plt.show()\n",
    "    return result\n",
    "    \n",
    "def on_button_clicked(a):\n",
    "    with out:\n",
    "        out.clear_output()\n",
    "        a.value = run_analysis()\n",
    "\n",
    "out = widgets.Output()\n",
    "[gm_widget, ky_widget, analysis_widget, start_widget] = dw.setup_widgets()\n",
    "\n",
    "display(ky_widget)\n",
    "display(analysis_widget)\n",
    "display(gm_widget)\n",
    "display(start_widget)\n",
    "display(out)\n",
    "\n",
    "start_widget.on_click(on_button_clicked)"
   ],
   "outputs": [
    {
     "data": {
      "text/plain": [
       "BoundedFloatText(value=0.35, description='ky (g):', max=5.0, step=0.01)"
      ],
      "application/vnd.jupyter.widget-view+json": {
       "version_major": 2,
       "version_minor": 0,
       "model_id": "35031cb9b9604d9d88e450df559c69b2"
      }
     },
     "metadata": {},
     "output_type": "display_data"
    },
    {
     "data": {
      "text/plain": [
       "ToggleButtons(description='Analysis type:', options=('Rigid', 'Decoupled', 'Coupled'), value='Rigid')"
      ],
      "application/vnd.jupyter.widget-view+json": {
       "version_major": 2,
       "version_minor": 0,
       "model_id": "bb28093fd782400da4131bb868d14e28"
      }
     },
     "metadata": {},
     "output_type": "display_data"
    },
    {
     "data": {
      "text/plain": [
       "Dropdown(description='Select ground motion:', options=(('Morgan_Hill_1984_CYC-285', <pyslammer.record.GroundMo…"
      ],
      "application/vnd.jupyter.widget-view+json": {
       "version_major": 2,
       "version_minor": 0,
       "model_id": "83c7a0e22e6a4df7a2d30c5582839c75"
      }
     },
     "metadata": {},
     "output_type": "display_data"
    },
    {
     "data": {
      "text/plain": [
       "Button(button_style='warning', description='Run Analysis', icon='refresh', style=ButtonStyle(), tooltip='Run A…"
      ],
      "application/vnd.jupyter.widget-view+json": {
       "version_major": 2,
       "version_minor": 0,
       "model_id": "8e3fdc4f913640a7a9b82b75f67d6188"
      }
     },
     "metadata": {},
     "output_type": "display_data"
    },
    {
     "data": {
      "text/plain": [
       "Output()"
      ],
      "application/vnd.jupyter.widget-view+json": {
       "version_major": 2,
       "version_minor": 0,
       "model_id": "f771f858f2e841d785a344a645186cd5"
      }
     },
     "metadata": {},
     "output_type": "display_data"
    }
   ],
   "execution_count": 4
  },
  {
   "cell_type": "code",
   "metadata": {
    "ExecuteTime": {
     "end_time": "2024-10-21T21:25:47.882310Z",
     "start_time": "2024-10-21T21:25:47.879688Z"
    }
   },
   "source": [
    "analysis_result = start_widget.value"
   ],
   "outputs": [],
   "execution_count": 6
  },
  {
   "cell_type": "code",
   "metadata": {
    "ExecuteTime": {
     "end_time": "2024-10-21T21:25:48.256745Z",
     "start_time": "2024-10-21T21:25:48.254215Z"
    }
   },
   "source": [
    "analysis_result.max_sliding_disp"
   ],
   "outputs": [
    {
     "data": {
      "text/plain": [
       "np.float64(0.012107931021998235)"
      ]
     },
     "execution_count": 7,
     "metadata": {},
     "output_type": "execute_result"
    }
   ],
   "execution_count": 7
  },
  {
   "metadata": {},
   "cell_type": "code",
   "outputs": [],
   "execution_count": null,
   "source": ""
  }
 ],
 "metadata": {
  "kernelspec": {
   "display_name": "base",
   "language": "python",
   "name": "python3"
  },
  "language_info": {
   "codemirror_mode": {
    "name": "ipython",
    "version": 3
   },
   "file_extension": ".py",
   "mimetype": "text/x-python",
   "name": "python",
   "nbconvert_exporter": "python",
   "pygments_lexer": "ipython3",
   "version": "3.12.4"
  }
 },
 "nbformat": 4,
 "nbformat_minor": 2
}
