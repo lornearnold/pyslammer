{
 "cells": [
  {
   "cell_type": "markdown",
   "metadata": {},
   "source": [
    "# pyslammer demo: interactive notebook \n",
    "This notebook shows an example use case of pyslammer for using interactive widgets to control pyslammer parameters and inspect the results. \n",
    "This approach is best suited for exploration and teaching."
   ]
  },
  {
   "cell_type": "code",
   "execution_count": null,
   "metadata": {},
   "outputs": [],
   "source": [
    "# If running in Jupyterlite with Pyodide, install the additional packages\n",
    "%pip install pyslammer\n",
    "%pip install pandas\n",
    "%pip install ipywidgets\n",
    "%pip install numpy\n",
    "%pip install sympy\n",
    "%pip install scipy\n",
    "%pip install matplotlib\n",
    "%pip install ipympl\n",
    "%matplotlib widget"
   ]
  },
  {
   "cell_type": "markdown",
   "metadata": {},
   "source": [
    "# Setup\n",
    "\n",
    "Assumes pySLAMMER is installed. Will need to document how to install somewhere.\n",
    "\n",
    "Eventually, these should get intalled in a single import:\n",
    "\n",
    "```python\n",
    "import pylammer as slam\n",
    "```"
   ]
  },
  {
   "cell_type": "code",
   "execution_count": 1,
   "metadata": {},
   "outputs": [],
   "source": [
    "# If running on a local machine with the full pyslammer repository, just add the parent directory to the path\n",
    "# import sys\n",
    "# sys.path.append('..')"
   ]
  },
  {
   "cell_type": "code",
   "execution_count": 2,
   "metadata": {},
   "outputs": [],
   "source": [
    "# Import libraries\n",
    "import matplotlib.pyplot as plt\n",
    "import ipywidgets as widgets\n",
    "import pandas as pd\n",
    "import pyslammer as slam\n",
    "import pyslammer.demo_widgets as dw"
   ]
  },
  {
   "cell_type": "markdown",
   "metadata": {},
   "source": [
    "# Input\n",
    "\n",
    "Running an sliding block analysis with pySLAMMER requires at least two sets of input: 1) Slope parameters, and 2) a ground motion.\n",
    "\n",
    "## Slope Parameters\n",
    "\n",
    "For any analysis type, a yield acceleration, $k_y$, is needed. If coupled or decoupled analysis is performed, additional inputs are required. For any analysis type, at least one value of $k_y$ is needed, but $k_y$ can also be a function of displacement.\n",
    "\n",
    "**Widget Input** the $k_y$ value in a textbox that only allows for numeric input (float).\n",
    "\n",
    "```python\n",
    "ky = 0.5 % g\n",
    "```\n",
    "## Ground motion\n",
    "\n",
    "Default assumption: a recorded ground motion\n",
    "\n",
    "Widget Select record, input desired PGA"
   ]
  },
  {
   "cell_type": "markdown",
   "metadata": {},
   "source": [
    "## Interactive analysis widget\n",
    "After running the code cell below, an interactive widget panel displays beneath.\n",
    "\n",
    "At this time, $k_y$ is the only slope parameter to vary (coupled and decoupled simulation types have not been implemented).\n",
    "\n",
    "A small set of pre-loaded recorded ground motions are availalbe through the `ground motion` widget.\n",
    "TODO: add ground motion scaling capability and widget.\n",
    "\n",
    "Assuming \"Rigid\" is selected for analysis type, clicking on the **Run Analysis** button should run pyslammer with the selected parameters and plot the results."
   ]
  },
  {
   "cell_type": "code",
   "execution_count": 4,
   "metadata": {},
   "outputs": [
    {
     "data": {
      "application/vnd.jupyter.widget-view+json": {
       "model_id": "638b6c3bab864c8c89554c6a4882eef0",
       "version_major": 2,
       "version_minor": 0
      },
      "text/plain": [
       "BoundedFloatText(value=0.35, description='k_y (g):', max=5.0, step=0.01)"
      ]
     },
     "metadata": {},
     "output_type": "display_data"
    },
    {
     "data": {
      "application/vnd.jupyter.widget-view+json": {
       "model_id": "3e434a5beba24d23abb20c3fec4ffec3",
       "version_major": 2,
       "version_minor": 0
      },
      "text/plain": [
       "ToggleButtons(description='Analysis type:', options=('Rigid', 'Decoupled', 'Coupled'), value='Rigid')"
      ]
     },
     "metadata": {},
     "output_type": "display_data"
    },
    {
     "data": {
      "application/vnd.jupyter.widget-view+json": {
       "model_id": "6032161dea8d4bf2b15adcc22e396f28",
       "version_major": 2,
       "version_minor": 0
      },
      "text/plain": [
       "Dropdown(description='Select ground motion:', options=(('Morgan_Hill_1984_CYC-285', array([[ 0.00000000e+00,  …"
      ]
     },
     "metadata": {},
     "output_type": "display_data"
    },
    {
     "data": {
      "application/vnd.jupyter.widget-view+json": {
       "model_id": "41e573427a024d3290a64a9648f23071",
       "version_major": 2,
       "version_minor": 0
      },
      "text/plain": [
       "Button(button_style='warning', description='Run Analysis', icon='refresh', style=ButtonStyle(), tooltip='Run A…"
      ]
     },
     "metadata": {},
     "output_type": "display_data"
    },
    {
     "data": {
      "application/vnd.jupyter.widget-view+json": {
       "model_id": "10ce994c4e6c4057bc704e9df3f15c29",
       "version_major": 2,
       "version_minor": 0
      },
      "text/plain": [
       "Output()"
      ]
     },
     "metadata": {},
     "output_type": "display_data"
    }
   ],
   "source": [
    "def run_analysis(a=None):\n",
    "    if analysis_widget.value != 'Rigid':\n",
    "        print(\"Sorry, that model type hasn't been implemented yet.\")\n",
    "        result = None\n",
    "    else:\n",
    "        ky = ky_widget.value\n",
    "        result = slam.SlidingBlockAnalysis(gm_widget.value, ky)\n",
    "        plt.close('all')\n",
    "        fig, axs = slam.sliding_block_plot(result)\n",
    "        plt.show()\n",
    "    return result\n",
    "    \n",
    "def on_button_clicked(a):\n",
    "    with out:\n",
    "        out.clear_output()\n",
    "        a.value = run_analysis()\n",
    "\n",
    "out = widgets.Output()\n",
    "[gm_widget, ky_widget, analysis_widget, start_widget] = dw.setup_widgets()\n",
    "\n",
    "display(ky_widget)\n",
    "display(analysis_widget)\n",
    "display(gm_widget)\n",
    "display(start_widget)\n",
    "display(out)\n",
    "\n",
    "start_widget.on_click(on_button_clicked)"
   ]
  },
  {
   "cell_type": "code",
   "execution_count": 5,
   "metadata": {},
   "outputs": [],
   "source": [
    "analysis_result = start_widget.value"
   ]
  },
  {
   "cell_type": "code",
   "execution_count": 6,
   "metadata": {},
   "outputs": [
    {
     "data": {
      "image/png": "[encoded data removed]",
      "text/latex": [
       "$\\displaystyle 0.0121079310219982$"
      ],
      "text/plain": [
       "np.float64(0.012107931021998235)"
      ]
     },
     "execution_count": 6,
     "metadata": {},
     "output_type": "execute_result"
    }
   ],
   "source": [
    "analysis_result.max_sliding_disp"
   ]
  }
 ],
 "metadata": {
  "kernelspec": {
   "display_name": "base",
   "language": "python",
   "name": "python3"
  },
  "language_info": {
   "codemirror_mode": {
    "name": "ipython",
    "version": 3
   },
   "file_extension": ".py",
   "mimetype": "text/x-python",
   "name": "python",
   "nbconvert_exporter": "python",
   "pygments_lexer": "ipython3",
   "version": "3.12.4"
  }
 },
 "nbformat": 4,
 "nbformat_minor": 2
}
