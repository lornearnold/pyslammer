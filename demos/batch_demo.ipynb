{
 "cells": [
  {
   "cell_type": "markdown",
   "metadata": {},
   "source": [
    "# pySLAMMER\n",
    "This notebook shows the basic functionality of pySLAMMER.\n",
    "\n",
    "*The code cells below are supposed to be hidden... I gen get that to work using my JupyterLab settings, but not in the notebook itself. I'll need to look into that. These should possibly be hosted on jupyterlite so we can control the whole environment.*"
   ]
  },
  {
   "cell_type": "code",
   "execution_count": 1,
   "metadata": {},
   "outputs": [],
   "source": [
    "import matplotlib.pyplot as plt\n",
    "%matplotlib widget"
   ]
  },
  {
   "cell_type": "code",
   "execution_count": 4,
   "metadata": {},
   "outputs": [],
   "source": [
    "import ipywidgets as widgets\n",
    "import SlidingBlock as sb"
   ]
  },
  {
   "cell_type": "code",
   "execution_count": 19,
   "metadata": {},
   "outputs": [],
   "source": [
    "# Set up widgets for later use:\n",
    "# NOTE: having these \"hidden\" by default does not work well. Can I do the notebook setup inside of pySLAMMER? That would be ideal.\n",
    "# Defining the yield acceleration\n",
    "ky_widget = widgets.BoundedFloatText(\n",
    "        value=0.35,\n",
    "        min=0,\n",
    "        max=5.0,\n",
    "        step=0.01,\n",
    "        description='k_y (g):',\n",
    "        disabled=False\n",
    ")\n",
    "# Selecting the ground motion\n",
    "gm_widget = widgets.Dropdown(\n",
    "        options=[('Northridge', 'Northridge_VSP-360.csv'), ('Loma Prieta (not implemented)', 102), ('Nisqually (not implemented)', 103)],\n",
    "        value='Northridge_VSP-360.csv',\n",
    "        description='Select ground motion:',\n",
    ")\n",
    "\n",
    "# Setting the input PGA\n",
    "analysis_widget = widgets.ToggleButtons(\n",
    "        options=['Rigid', 'Decoupled', 'Coupled'],\n",
    "        description='Analysis type:',\n",
    "        disabled=False,\n",
    "        button_style='', # 'success', 'info', 'warning', 'danger' or ''\n",
    "        tooltips=[],\n",
    "#     icons=['check'] * 3\n",
    ")\n",
    "\n",
    "# Start analysis\n",
    "start_widget = widgets.Button(\n",
    "        description='Run Analysis',\n",
    "        disabled=False,\n",
    "        button_style='warning', # 'success', 'info', 'warning', 'danger' or ''\n",
    "        tooltip='Run Analysis',\n",
    "        icon='brave' # (FontAwesome names without the `fa-` prefix)\n",
    ")"
   ]
  },
  {
   "cell_type": "markdown",
   "metadata": {},
   "source": [
    "# Setup\n",
    "\n",
    "Assumes pySLAMMER is installed. Will need to document how to install somewhere.\n",
    "\n",
    "First, import pySLAMMER using:\n",
    "\n",
    "```python\n",
    "import pySLAMMER as slam\n",
    "```"
   ]
  },
  {
   "cell_type": "markdown",
   "metadata": {},
   "source": [
    "# Input\n",
    "\n",
    "Running an sliding block analysis with pySLAMMER requires at least two sets of input: 1) Slope parameters, and 2) a ground motion.\n",
    "\n",
    "## Slope Parameters\n",
    "\n",
    "For any analysis type, a yield acceleration, $k_y$, is needed. If coupled or decoupled analysis is performed, additional inputs are required. For any analysis type, at least one value of $k_y$ is needed, but $k_y$ can also be a function of displacement.\n",
    "\n",
    "**Widget Input** the $k_y$ value in a textbox that only allows for numeric input (float).\n",
    "\n",
    "```python\n",
    "ky = 0.5 % g\n",
    "```\n",
    "## Ground motion\n",
    "\n",
    "Default assumption: a recorded ground motion\n",
    "\n",
    "Widget Select record, input desired PGA"
   ]
  },
  {
   "cell_type": "code",
   "execution_count": 20,
   "metadata": {},
   "outputs": [
    {
     "data": {
      "application/vnd.jupyter.widget-view+json": {
       "model_id": "1a2b35976d71481386c50571777994fa",
       "version_major": 2,
       "version_minor": 0
      },
      "text/plain": [
       "BoundedFloatText(value=0.35, description='k_y (g):', max=5.0, step=0.01)"
      ]
     },
     "metadata": {},
     "output_type": "display_data"
    },
    {
     "data": {
      "application/vnd.jupyter.widget-view+json": {
       "model_id": "beeb47c97cad482d80b3e27af5c1e33a",
       "version_major": 2,
       "version_minor": 0
      },
      "text/plain": [
       "ToggleButtons(description='Analysis type:', options=('Rigid', 'Decoupled', 'Coupled'), value='Rigid')"
      ]
     },
     "metadata": {},
     "output_type": "display_data"
    },
    {
     "data": {
      "application/vnd.jupyter.widget-view+json": {
       "model_id": "399717c2aefb4c008c4e479f55c57d2a",
       "version_major": 2,
       "version_minor": 0
      },
      "text/plain": [
       "Dropdown(description='Select ground motion:', options=(('Northridge', 'Northridge_VSP-360.csv'), ('Loma Prieta…"
      ]
     },
     "metadata": {},
     "output_type": "display_data"
    },
    {
     "data": {
      "application/vnd.jupyter.widget-view+json": {
       "model_id": "1bdb5ecad6cc4bf7be74f641eec76b57",
       "version_major": 2,
       "version_minor": 0
      },
      "text/plain": [
       "Button(button_style='warning', description='Run Analysis', icon='brave', style=ButtonStyle(), tooltip='Run Ana…"
      ]
     },
     "metadata": {},
     "output_type": "display_data"
    },
    {
     "data": {
      "application/vnd.jupyter.widget-view+json": {
       "model_id": "7425958eaa2546e8a2b524dc1cf10e96",
       "version_major": 2,
       "version_minor": 0
      },
      "text/plain": [
       "Output()"
      ]
     },
     "metadata": {},
     "output_type": "display_data"
    }
   ],
   "source": [
    "def run_analysis(a=None):\n",
    "    if analysis_widget.value != 'Rigid':\n",
    "        print(\"Sorry, that model type hasn't been implemented yet.\")\n",
    "    else:\n",
    "        g = 9.81\n",
    "        tHist = sb.normModeTimeHist(f'sample_ground_motions/{gm_widget.value}')\n",
    "        k_y = ky_widget.value*g\n",
    "        gAcc, gVel, bVel, bDisp, t = sb.downslopeAnalysis(tHist,k_y)\n",
    "        plt.close('all')\n",
    "        fig, axs = sb.plotOutput(gAcc,gVel,bVel,bDisp,t)\n",
    "        plt.show()\n",
    "    \n",
    "def on_button_clicked(a):\n",
    "    with out:\n",
    "        out.clear_output()\n",
    "        run_analysis()\n",
    "\n",
    "out = widgets.Output()\n",
    "\n",
    "display(ky_widget)\n",
    "display(analysis_widget)\n",
    "display(gm_widget)\n",
    "display(start_widget)\n",
    "display(out)\n",
    "\n",
    "start_widget.on_click(on_button_clicked)"
   ]
  },
  {
   "cell_type": "code",
   "execution_count": null,
   "metadata": {},
   "outputs": [],
   "source": []
  },
  {
   "cell_type": "code",
   "execution_count": null,
   "metadata": {},
   "outputs": [],
   "source": []
  }
 ],
 "metadata": {
  "kernelspec": {
   "display_name": "base",
   "language": "python",
   "name": "python3"
  },
  "language_info": {
   "codemirror_mode": {
    "name": "ipython",
    "version": 3
   },
   "file_extension": ".py",
   "mimetype": "text/x-python",
   "name": "python",
   "nbconvert_exporter": "python",
   "pygments_lexer": "ipython3",
   "version": "3.11.8"
  }
 },
 "nbformat": 4,
 "nbformat_minor": 2
}
