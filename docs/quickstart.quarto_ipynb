{
  "cells": [
    {
      "cell_type": "markdown",
      "metadata": {},
      "source": [
        "---\n",
        "title: Quickstart guide\n",
        "toc-depth: 3\n",
        "---\n",
        "\n",
        "## Requirements\n",
        "The pyslammer package is built on Python 3.12. Earlier versions of Python 3 may work, but have not been tested.\n",
        "\n",
        "## Installation using pip\n",
        "[![PyPI](https://img.shields.io/pypi/v/pyslammer.svg){fig-align=\"left\"}](https://pypi.org/project/pyslammer)\n",
        "<!-- [![PyPI - Python Version](https://img.shields.io/pypi/pyversions/pyslammer.svg){fig-align=\"left\"}](https://pypi.org/project/pyslammer)\n",
        "[![PyPI - License](https://img.shields.io/pypi/l/pyslammer.svg){fig-align=\"left\"}](https://pypi.org/project/pyslammer) -->\n",
        "\n",
        "Install pyslammer using `pip` from the Python Package Index (PyPI):\n",
        "``` bash\n",
        "pip install pyslammer\n",
        "```\n",
        "## Basic Usage\n",
        "With `pyslammer` installed, basic usage involves the following steps:\n",
        "1. Import the `pyslammer` module\n",
        "2. Import a ground motion\n",
        "3. Perform a rigid sliding block analysis\n",
        "4. View results\n",
        "\n",
        "### Import the pyslammer module\n",
        "The recommended ailas for pyslammer is `slam`:\n"
      ],
      "id": "7efdf11b"
    },
    {
      "cell_type": "code",
      "metadata": {},
      "source": [
        "import pyslammer as slam "
      ],
      "id": "f2aafb1c",
      "execution_count": null,
      "outputs": []
    },
    {
      "cell_type": "markdown",
      "metadata": {},
      "source": [
        "This allows use of pyslammer features within your code with the short prefix `slam`.\n",
        "\n",
        "The primary object type within pyslammer is the `SlidingBlockAnalysis` object.\n",
        "At a minimum any `SlidingBlockAnalysis` requires a yield acceleration for the slope ($k_y$) and an input ground motion.\n",
        "As basic example, consider a rigid sliding block analysis on a slope with a yield acceleration of $0.2$ g. \n",
        "\n",
        "### Import a ground motion\n",
        "A small number of sample ground motion records are included with `pyslammer`.\n",
        "We will use one of the sample ground motion records, but we expect most users will import their ground motions from external sources. \n",
        "To use any signal for a ground motion, `pyslammer` needs a 1-D array of acceleration in units of $g$ and the signal timestep (in seconds). \n",
        "See The available sample ground motions can be viewed with:\n"
      ],
      "id": "a80386e5"
    },
    {
      "cell_type": "code",
      "metadata": {},
      "source": [
        "motions = slam.sample_ground_motions() # Load all sample ground motions\n",
        "for motion in motions:\n",
        "    print(motion)"
      ],
      "id": "94e8baa7",
      "execution_count": null,
      "outputs": []
    },
    {
      "cell_type": "markdown",
      "metadata": {},
      "source": [
        "For this example, we will use the`Imperial_Valley_1979_BCR-230` motion.\n"
      ],
      "id": "fdbf2cd7"
    },
    {
      "cell_type": "code",
      "metadata": {},
      "source": [
        "gm = motions[\"Imperial_Valley_1979_BCR-230\"]"
      ],
      "id": "c2619f08",
      "execution_count": null,
      "outputs": []
    },
    {
      "cell_type": "markdown",
      "metadata": {},
      "source": [
        "The timestep and acceleration signal for the imported ground motion are `gm.dt` and `gm.accel`, respectively.\n",
        "\n",
        "### Perform a rigid sliding block analysis\n",
        "With the imported ground motion, `gm`, and the assumed value of $k_y$, we can perform a rigid sliding block analysis with pySLAMMER's `RigidAnalysis` object. \n",
        "This simultaneously creates an instance of `RigidAnalysis` and performs the analysis, which is stored as `result`.\n",
        "The inputs for `RigidAnalysis` are the input acceleration signal, time step, and the yield acceleration.\n",
        "\n",
        "\n",
        "```{note}\n",
        "A note admonition! Not for anyting in particular, though...\n",
        "```"
      ],
      "id": "1d7d610b"
    },
    {
      "cell_type": "code",
      "metadata": {},
      "source": [
        "ky = 0.2 # yield acceleration in g\n",
        "result = slam.RigidAnalysis(gm.accel, gm.dt, ky)"
      ],
      "id": "2a39f91e",
      "execution_count": null,
      "outputs": []
    },
    {
      "cell_type": "markdown",
      "metadata": {},
      "source": [
        "### View results\n",
        "The primary output of the sliding block analysis is the final displacement (`SlidingBlockAnalysis.max_sliding_disp`).\n",
        "By default, all lengths in pySLAMMER are in meters.\n",
        "The cell below shows the displacement induced by the sample ground motion in the example:\n"
      ],
      "id": "43b450f6"
    },
    {
      "cell_type": "code",
      "metadata": {},
      "source": [
        "print(f\"Slope yield acc: {ky:.2f} g \\nGround motion: {gm.name}; PGA: {gm.pga:.2f} g \\nSliding displacement: {result.max_sliding_disp:.3f} m\")"
      ],
      "id": "1a7405f3",
      "execution_count": null,
      "outputs": []
    },
    {
      "cell_type": "markdown",
      "metadata": {},
      "source": [
        "A built-in plotting function presents an at-a-glance picture of the analysis result in terms of the input motion and block accelerations, sliding velocity, and sliding displacement:\n"
      ],
      "id": "5464b1e4"
    },
    {
      "cell_type": "code",
      "metadata": {},
      "source": [
        "#| label: fig_quickstart_rigid\n",
        "#| fig-cap: Rigid sliding block analysis results\n",
        "#| column: page-right\n",
        "fig = result.sliding_block_plot()"
      ],
      "id": "fig_quickstart_rigid",
      "execution_count": null,
      "outputs": []
    },
    {
      "cell_type": "markdown",
      "metadata": {},
      "source": [
        "In addition to the final displacement, the displacement, velocity, and acceleration time histories of the block are returned as numpy arrays.\n",
        "See the documentation for the `SlidingBlockAnalysis` class for a detailed description of all the results."
      ],
      "id": "06add1b2"
    }
  ],
  "metadata": {
    "kernelspec": {
      "name": "python3",
      "language": "python",
      "display_name": "Python 3 (ipykernel)",
      "path": "/Library/Frameworks/Python.framework/Versions/3.12/share/jupyter/kernels/python3"
    }
  },
  "nbformat": 4,
  "nbformat_minor": 5
}