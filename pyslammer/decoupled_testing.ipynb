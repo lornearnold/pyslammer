{
 "cells": [
  {
   "cell_type": "code",
   "id": "initial_id",
   "metadata": {
    "collapsed": true,
    "ExecuteTime": {
     "end_time": "2024-08-25T02:19:27.806814Z",
     "start_time": "2024-08-25T02:19:26.009209Z"
    }
   },
   "source": "import pyslammer as slam",
   "outputs": [],
   "execution_count": 1
  },
  {
   "metadata": {
    "ExecuteTime": {
     "end_time": "2024-08-25T02:21:14.126512Z",
     "start_time": "2024-08-25T02:21:14.027697Z"
    }
   },
   "cell_type": "code",
   "source": [
    "histories = slam.sample_ground_motions()\n",
    "ky = 0.02\n",
    "motion = histories[\"Chi-Chi_1999_TCU068-090\"]\n",
    "dt = motion[0][1] - motion[0][0]\n",
    "\n",
    "da = slam.Decoupled()\n",
    "out = da.decoupled(ain_p=motion[1],\n",
    "             uwgt_p=20.0,\n",
    "             height_p=50.0,\n",
    "             vs_p=600.0,\n",
    "             damp1_p=0.05,\n",
    "             refstrain_p=0.01,\n",
    "             dt_p=dt,\n",
    "             scal_p=1.0,\n",
    "             g_p=9.80665,\n",
    "             vr_p=600.0,\n",
    "             ca=[[0.1],[ky]],\n",
    "             dv3_p=False)"
   ],
   "id": "7a841f5f610aa772",
   "outputs": [],
   "execution_count": 6
  },
  {
   "metadata": {
    "ExecuteTime": {
     "end_time": "2024-08-25T02:21:15.905940Z",
     "start_time": "2024-08-25T02:21:15.902886Z"
    }
   },
   "cell_type": "code",
   "source": "da",
   "id": "1b204d5321e4c88a",
   "outputs": [
    {
     "data": {
      "text/plain": [
       "<pyslammer.decoupled_analysis.Decoupled at 0x12105acc0>"
      ]
     },
     "execution_count": 7,
     "metadata": {},
     "output_type": "execute_result"
    }
   ],
   "execution_count": 7
  },
  {
   "metadata": {
    "ExecuteTime": {
     "end_time": "2024-08-25T02:26:45.223008Z",
     "start_time": "2024-08-25T02:26:45.220713Z"
    }
   },
   "cell_type": "code",
   "source": "a = max(da.avgacc)",
   "id": "635c224757f40228",
   "outputs": [],
   "execution_count": 14
  },
  {
   "metadata": {
    "ExecuteTime": {
     "end_time": "2024-08-25T02:26:49.360217Z",
     "start_time": "2024-08-25T02:26:49.357847Z"
    }
   },
   "cell_type": "code",
   "source": "b = max(motion[1])",
   "id": "a6fb0b1c4a7aac72",
   "outputs": [],
   "execution_count": 15
  },
  {
   "metadata": {
    "ExecuteTime": {
     "end_time": "2024-08-25T02:27:01.407362Z",
     "start_time": "2024-08-25T02:27:01.088258Z"
    }
   },
   "cell_type": "code",
   "source": "b/a",
   "id": "87e6765724c3185e",
   "outputs": [
    {
     "data": {
      "text/plain": [
       "np.float64(482.7401229631198)"
      ],
      "image/png": "[encoded data removed]",
      "text/latex": "$\\displaystyle 482.74012296312$"
     },
     "execution_count": 17,
     "metadata": {},
     "output_type": "execute_result"
    }
   ],
   "execution_count": 17
  },
  {
   "metadata": {
    "ExecuteTime": {
     "end_time": "2024-08-25T02:23:50.213975Z",
     "start_time": "2024-08-25T02:23:49.905446Z"
    }
   },
   "cell_type": "code",
   "source": "da.qq",
   "id": "a8db37d32a667d83",
   "outputs": [
    {
     "data": {
      "text/plain": [
       "1"
      ],
      "image/png": "[encoded data removed]",
      "text/latex": "$\\displaystyle 1$"
     },
     "execution_count": 11,
     "metadata": {},
     "output_type": "execute_result"
    }
   ],
   "execution_count": 11
  },
  {
   "metadata": {},
   "cell_type": "code",
   "outputs": [],
   "execution_count": null,
   "source": "",
   "id": "a34d5e07bde23b4d"
  }
 ],
 "metadata": {
  "kernelspec": {
   "display_name": "Python 3",
   "language": "python",
   "name": "python3"
  },
  "language_info": {
   "codemirror_mode": {
    "name": "ipython",
    "version": 2
   },
   "file_extension": ".py",
   "mimetype": "text/x-python",
   "name": "python",
   "nbconvert_exporter": "python",
   "pygments_lexer": "ipython2",
   "version": "2.7.6"
  }
 },
 "nbformat": 4,
 "nbformat_minor": 5
}
