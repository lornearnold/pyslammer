{
 "cells": [
  {
   "cell_type": "code",
   "id": "initial_id",
   "metadata": {
    "collapsed": true,
    "ExecuteTime": {
     "end_time": "2024-08-27T00:04:10.109125Z",
     "start_time": "2024-08-27T00:04:09.284996Z"
    }
   },
   "source": [
    "import pyslammer as slam\n",
    "import matplotlib.pyplot as plt\n",
    "%matplotlib widget"
   ],
   "outputs": [],
   "execution_count": 1
  },
  {
   "cell_type": "code",
   "id": "7a841f5f610aa772",
   "metadata": {
    "ExecuteTime": {
     "end_time": "2024-08-27T00:04:10.736268Z",
     "start_time": "2024-08-27T00:04:10.666386Z"
    }
   },
   "source": [
    "histories = slam.sample_ground_motions()\n",
    "ky = 0.15\n",
    "motion = histories[\"Northridge_VSP-360\"]\n",
    "dt = motion[0][1] - motion[0][0]\n"
   ],
   "outputs": [],
   "execution_count": 2
  },
  {
   "metadata": {
    "ExecuteTime": {
     "end_time": "2024-08-27T00:04:11.427571Z",
     "start_time": "2024-08-27T00:04:11.424641Z"
    }
   },
   "cell_type": "code",
   "source": "sorted_histories = sorted(histories.keys())",
   "id": "4621be56e86ef170",
   "outputs": [],
   "execution_count": 3
  },
  {
   "metadata": {
    "ExecuteTime": {
     "end_time": "2024-08-27T00:04:13.734632Z",
     "start_time": "2024-08-27T00:04:12.626692Z"
    }
   },
   "cell_type": "code",
   "source": [
    "%%time\n",
    "for name in sorted_histories:\n",
    "    motion = histories[name]\n",
    "    dt = motion[0][1] - motion[0][0]\n",
    "    da = slam.Decoupled()\n",
    "    da.run_sliding_analysis(ain_p=motion[1]/9.80665,\n",
    "                                  uwgt_p=20.0,\n",
    "                                  height_p=50.0,\n",
    "                                  vs_p=600.0,\n",
    "                                  damp1_p=.05,\n",
    "                                  refstrain_p=0.05,\n",
    "                                  dt_p=dt,\n",
    "                                  scal_p=1.0,\n",
    "                                  g_p=9.80665,\n",
    "                                  vr_p=600.0,\n",
    "                                  ca=[[1],[ky]],\n",
    "                                  dv3_p=True)\n",
    "    pga = max(abs(motion[1]))/9.80665\n",
    "    print(f\"{name}: PGA = {pga:.2f}, decoupled disp = {da.s[-1]*100:.2f}cm\")\n",
    "    # ax.plot(motion[0],da.s*100,label=name)\n",
    "# ax.legend()"
   ],
   "id": "bfcd7fed49100eac",
   "outputs": [
    {
     "name": "stdout",
     "output_type": "stream",
     "text": [
      "Cape_Mendocino_1992_PET-090: PGA = 0.21, decoupled disp = 0.01cm\n",
      "Chi-Chi_1999_TCU068-090: PGA = 0.57, decoupled disp = 72.94cm\n",
      "Coalinga_1983_PVB-045: PGA = 0.38, decoupled disp = 7.77cm\n",
      "Duzce_1999_375-090: PGA = 0.51, decoupled disp = 2.69cm\n",
      "Imperial_Valley_1979_BCR-230: PGA = 0.77, decoupled disp = 33.03cm\n",
      "Kobe_1995_TAK-090: PGA = 0.62, decoupled disp = 114.90cm\n",
      "Kocaeli_1999_ATS-090: PGA = 0.18, decoupled disp = 0.03cm\n",
      "Landers_1992_LCN-345: PGA = 0.79, decoupled disp = 8.15cm\n",
      "Loma_Prieta_1989_HSP-000: PGA = 0.37, decoupled disp = 10.19cm\n",
      "Mammoth_Lakes-1_1980_CVK-090: PGA = 0.42, decoupled disp = 2.71cm\n",
      "Mammoth_Lakes-2_1980_CVK-090: PGA = 0.27, decoupled disp = 0.38cm\n",
      "Morgan_Hill_1984_CYC-285: PGA = 1.30, decoupled disp = 22.53cm\n",
      "N_Palm_Springs_1986_WWT-180: PGA = 0.49, decoupled disp = 7.53cm\n",
      "Nahanni_1985_NS1-280: PGA = 1.10, decoupled disp = 8.07cm\n",
      "Nisqually_2001_UNR-058: PGA = 0.27, decoupled disp = 0.87cm\n",
      "Northridge_VSP-360: PGA = 0.93, decoupled disp = 29.75cm\n",
      "CPU times: user 1.07 s, sys: 39.6 ms, total: 1.11 s\n",
      "Wall time: 1.1 s\n"
     ]
    }
   ],
   "execution_count": 4
  },
  {
   "cell_type": "code",
   "id": "1b204d5321e4c88a",
   "metadata": {
    "ExecuteTime": {
     "end_time": "2024-08-26T23:20:57.159986Z",
     "start_time": "2024-08-26T23:20:57.158103Z"
    }
   },
   "source": [
    "# plt.close(\"all\")\n",
    "# # plt.plot(motion[0],motion[1])\n",
    "# # plt.plot(motion[0],da.udotdot)\n",
    "# # plt.plot(motion[0],da.avgacc)\n",
    "# # # plt.plot(motion[0],da.sdot)\n",
    "# plt.plot(motion[0],da.s)\n",
    "# plt.title(f\"Total displacement: {da.s[-1]*100:.1f}cm\")\n",
    "# \n",
    "# plt.show()"
   ],
   "outputs": [],
   "execution_count": 11
  },
  {
   "metadata": {
    "ExecuteTime": {
     "end_time": "2024-08-26T23:19:11.507372Z",
     "start_time": "2024-08-26T23:19:11.506093Z"
    }
   },
   "cell_type": "code",
   "source": "",
   "id": "f21748b2f58b6ba5",
   "outputs": [],
   "execution_count": null
  },
  {
   "metadata": {
    "ExecuteTime": {
     "end_time": "2024-08-26T23:19:11.513192Z",
     "start_time": "2024-08-26T23:19:11.512017Z"
    }
   },
   "cell_type": "code",
   "source": "",
   "id": "f1c21e9495991283",
   "outputs": [],
   "execution_count": null
  },
  {
   "metadata": {
    "ExecuteTime": {
     "end_time": "2024-08-26T23:19:11.895580Z",
     "start_time": "2024-08-26T23:19:11.519736Z"
    }
   },
   "cell_type": "code",
   "source": "da.damp1",
   "id": "686e2dd3250272cf",
   "outputs": [
    {
     "data": {
      "text/plain": [
       "0.05"
      ],
      "image/png": "[encoded data removed]",
      "text/latex": "$\\displaystyle 0.05$"
     },
     "execution_count": 6,
     "metadata": {},
     "output_type": "execute_result"
    }
   ],
   "execution_count": 6
  },
  {
   "metadata": {
    "ExecuteTime": {
     "end_time": "2024-08-26T23:19:11.902596Z",
     "start_time": "2024-08-26T23:19:11.901368Z"
    }
   },
   "cell_type": "code",
   "source": "",
   "id": "b7a7ecd91417e2f1",
   "outputs": [],
   "execution_count": null
  },
  {
   "metadata": {
    "ExecuteTime": {
     "end_time": "2024-08-26T23:19:11.909382Z",
     "start_time": "2024-08-26T23:19:11.907640Z"
    }
   },
   "cell_type": "code",
   "source": [
    "class Point:\n",
    "    def __init__(self, x, y):\n",
    "        self._x = x\n",
    "        self._y = y\n",
    "\n",
    "    @property\n",
    "    def x(self):\n",
    "        return self._x\n",
    "\n",
    "    @property\n",
    "    def y(self):\n",
    "        return self._y"
   ],
   "id": "b10c6b71f80fd3a4",
   "outputs": [],
   "execution_count": 7
  },
  {
   "metadata": {
    "ExecuteTime": {
     "end_time": "2024-08-26T23:19:11.915494Z",
     "start_time": "2024-08-26T23:19:11.914024Z"
    }
   },
   "cell_type": "code",
   "source": "p = Point(1,2)",
   "id": "c441fb6f425777d0",
   "outputs": [],
   "execution_count": 8
  },
  {
   "metadata": {
    "ExecuteTime": {
     "end_time": "2024-08-26T23:19:12.218554Z",
     "start_time": "2024-08-26T23:19:11.919560Z"
    }
   },
   "cell_type": "code",
   "source": "p._x",
   "id": "3854d86c8b24dcb3",
   "outputs": [
    {
     "data": {
      "text/plain": [
       "1"
      ],
      "image/png": "[encoded data removed]",
      "text/latex": "$\\displaystyle 1$"
     },
     "execution_count": 9,
     "metadata": {},
     "output_type": "execute_result"
    }
   ],
   "execution_count": 9
  },
  {
   "metadata": {
    "ExecuteTime": {
     "end_time": "2024-08-26T23:19:12.225604Z",
     "start_time": "2024-08-26T23:19:12.224366Z"
    }
   },
   "cell_type": "code",
   "source": "",
   "id": "40d1a777a54f0101",
   "outputs": [],
   "execution_count": null
  }
 ],
 "metadata": {
  "kernelspec": {
   "display_name": "Python 3",
   "language": "python",
   "name": "python3"
  },
  "language_info": {
   "codemirror_mode": {
    "name": "ipython",
    "version": 3
   },
   "file_extension": ".py",
   "mimetype": "text/x-python",
   "name": "python",
   "nbconvert_exporter": "python",
   "pygments_lexer": "ipython3",
   "version": "3.12.4"
  }
 },
 "nbformat": 4,
 "nbformat_minor": 5
}
