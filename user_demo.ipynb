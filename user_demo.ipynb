{
 "cells": [
  {
   "cell_type": "markdown",
   "id": "d5fc7fd5-40dd-4db2-a0c6-6fcf6758d9d8",
   "metadata": {},
   "source": [
    "# pySLAMMER user demo\n",
    "This notebook shows the basic functionality of pySLAMMER.\n",
    "\n",
    "*The code cells below are hidden... but that's in my JupyterLab settings, not in the notebook itself. I'll need to look into that.*"
   ]
  },
  {
   "cell_type": "code",
   "execution_count": 3,
   "id": "035803a4-b1e1-4716-a375-b6f38c1f6819",
   "metadata": {
    "jupyter": {
     "source_hidden": true
    },
    "tags": []
   },
   "outputs": [],
   "source": [
    "import matplotlib.pyplot as plt\n",
    "%matplotlib widget"
   ]
  },
  {
   "cell_type": "code",
   "execution_count": 4,
   "id": "652fd5c9-f7a6-42d4-aef3-1860a2725211",
   "metadata": {
    "jupyter": {
     "source_hidden": true
    },
    "tags": []
   },
   "outputs": [],
   "source": [
    "import ipywidgets as widgets\n",
    "# from ipywidgets import interactive\n",
    "# from ipywidgets import AppLayout, Button, Layout\n",
    "import SlidingBlock as sb"
   ]
  },
  {
   "cell_type": "code",
   "execution_count": 5,
   "id": "195fa862-0363-4632-897b-a05138d72e24",
   "metadata": {
    "jupyter": {
     "source_hidden": true
    },
    "tags": []
   },
   "outputs": [],
   "source": [
    "# Set up widgets for later use:\n",
    "# Defining the yield acceleration\n",
    "ky_widget = widgets.BoundedFloatText(\n",
    "        value=0.5,\n",
    "        min=0,\n",
    "        max=5.0,\n",
    "        step=0.01,\n",
    "        description='$k_y$ (g):',\n",
    "        disabled=False\n",
    ")\n",
    "# Selecting the ground motion\n",
    "gm_widget = widgets.Dropdown(\n",
    "        options=[('Northridge', 'Northridge_VSP-360.csv'), ('Loma Prieta', 102), ('Nisqually', 103)],\n",
    "        value='Northridge_VSP-360.csv',\n",
    "        description='Select ground motion:',\n",
    ")\n",
    "\n",
    "# Setting the input PGA\n",
    "analysis_widget = widgets.ToggleButtons(\n",
    "        options=['Rigid', 'Decoupled', 'Coupled'],\n",
    "        description='Analysis type:',\n",
    "        disabled=False,\n",
    "        button_style='', # 'success', 'info', 'warning', 'danger' or ''\n",
    "        tooltips=[],\n",
    "#     icons=['check'] * 3\n",
    ")\n",
    "\n",
    "# Start analysis\n",
    "start_widget = widgets.Button(\n",
    "        description='Run Analysis',\n",
    "        disabled=False,\n",
    "        button_style='warning', # 'success', 'info', 'warning', 'danger' or ''\n",
    "        tooltip='Run Analysis',\n",
    "        icon='brave' # (FontAwesome names without the `fa-` prefix)\n",
    ")"
   ]
  },
  {
   "cell_type": "markdown",
   "id": "64464c2a-ec44-4b5b-895d-51abba3a18e9",
   "metadata": {},
   "source": [
    "## Setup\n",
    "*Assumes pySLAMMER is installed. Will need to document how to install somewhere.*\n",
    "\n",
    "First, import pySLAMMER using:\n",
    "```python\n",
    "import pySLAMMER as slam\n",
    "```\n",
    "\n",
    "## Inputs\n",
    "Running an sliding block analysis with pySLAMMER requires at least two sets of input: 1) Slope parameters, and 2) a ground motion.\n",
    "\n",
    "### Slope Parameters\n",
    "For any analysis type, a yield acceleration, $k_y$, is needed. \n",
    "If coupled or decoupled analysis is performed, additional inputs are required.\n",
    "For any analysis type, at least one value of $k_y$ is needed, but $k_y$ can also be a function of displacement.\n",
    "\n",
    "**Widget**\n",
    "Input the $k_y$ value in a textbox that only allows for numeric input (float).\n",
    "```python\n",
    "ky = 0.5 % g\n",
    "```\n",
    "\n",
    "### Ground motion\n",
    "Default assumption: a recorded ground motion\n",
    "\n",
    "**Widget**\n",
    "Select record, input desired PGA\n",
    "\n",
    "## Analysis and Results"
   ]
  },
  {
   "cell_type": "code",
   "execution_count": 11,
   "id": "909b8867-1f13-4350-b6ed-0c98ef656d4c",
   "metadata": {
    "jupyter": {
     "source_hidden": true
    },
    "tags": []
   },
   "outputs": [
    {
     "data": {
      "application/vnd.jupyter.widget-view+json": {
       "model_id": "b58d6ed551fe4c779f8b41815dd9f23a",
       "version_major": 2,
       "version_minor": 0
      },
      "text/plain": [
       "BoundedFloatText(value=0.5, description='$k_y$ (g):', max=5.0, step=0.01)"
      ]
     },
     "metadata": {},
     "output_type": "display_data"
    },
    {
     "data": {
      "application/vnd.jupyter.widget-view+json": {
       "model_id": "988c7f3c4121489d87e80e7f14f2e93c",
       "version_major": 2,
       "version_minor": 0
      },
      "text/plain": [
       "ToggleButtons(description='Analysis type:', options=('Rigid', 'Decoupled', 'Coupled'), value='Rigid')"
      ]
     },
     "metadata": {},
     "output_type": "display_data"
    },
    {
     "data": {
      "application/vnd.jupyter.widget-view+json": {
       "model_id": "5b13f7d258294a69bd22365bc2100f12",
       "version_major": 2,
       "version_minor": 0
      },
      "text/plain": [
       "Dropdown(description='Select ground motion:', options=(('Northridge', 'Northridge_VSP-360.csv'), ('Loma Prieta…"
      ]
     },
     "metadata": {},
     "output_type": "display_data"
    },
    {
     "data": {
      "application/vnd.jupyter.widget-view+json": {
       "model_id": "911ca4bc543545488b0800d3332f4cc1",
       "version_major": 2,
       "version_minor": 0
      },
      "text/plain": [
       "Button(button_style='warning', description='Run Analysis', icon='brave', style=ButtonStyle(), tooltip='Run Ana…"
      ]
     },
     "metadata": {},
     "output_type": "display_data"
    },
    {
     "data": {
      "application/vnd.jupyter.widget-view+json": {
       "model_id": "357d323064e540f2902ee177658e30a5",
       "version_major": 2,
       "version_minor": 0
      },
      "text/plain": [
       "Output()"
      ]
     },
     "metadata": {},
     "output_type": "display_data"
    }
   ],
   "source": [
    "def run_analysis(a=None):\n",
    "    g = 9.81\n",
    "    tHist = sb.normModeTimeHist(gm_widget.value)\n",
    "    k_y = ky_widget.value*g\n",
    "    gAcc, gVel, bVel, bDisp, t = sb.downslopeAnalysis(tHist,k_y)\n",
    "    fig, axs = sb.plotOutput(gAcc,gVel,bVel,bDisp,t)\n",
    "    plt.show()\n",
    "    \n",
    "def on_button_clicked(a):\n",
    "    with out:\n",
    "        out.clear_output()\n",
    "        run_analysis()\n",
    "\n",
    "out = widgets.Output()\n",
    "\n",
    "display(ky_widget)\n",
    "display(analysis_widget)\n",
    "display(gm_widget)\n",
    "display(start_widget)\n",
    "display(out)\n",
    "\n",
    "\n",
    "start_widget.on_click(on_button_clicked)"
   ]
  },
  {
   "cell_type": "markdown",
   "id": "04b8fe22-1eb2-4401-b48e-f8f47a2f6e1a",
   "metadata": {},
   "source": [
    "### Functionality to add\n",
    "* Ground motion scaling\n",
    "* Harmonic motion selections\n",
    "* Tabs... that's getting pretty far into GUI territory. But if it makes things cleaner to use, it would be worth it.\n",
    "* Fix the button layout so all the labels can be fully printed out\n"
   ]
  },
  {
   "cell_type": "code",
   "execution_count": null,
   "id": "7a6ee358-3043-44d0-a30b-9258ae6f9173",
   "metadata": {},
   "outputs": [],
   "source": []
  }
 ],
 "metadata": {
  "kernelspec": {
   "display_name": "Python 3 (ipykernel)",
   "language": "python",
   "name": "python3"
  },
  "language_info": {
   "codemirror_mode": {
    "name": "ipython",
    "version": 3
   },
   "file_extension": ".py",
   "mimetype": "text/x-python",
   "name": "python",
   "nbconvert_exporter": "python",
   "pygments_lexer": "ipython3",
   "version": "3.10.13"
  }
 },
 "nbformat": 4,
 "nbformat_minor": 5
}
