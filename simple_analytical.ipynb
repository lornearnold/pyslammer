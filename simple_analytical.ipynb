{
 "cells": [
  {
   "cell_type": "markdown",
   "id": "18be00ee",
   "metadata": {},
   "source": [
    "# Analytical Sliding Block Solutions\n",
    "Creates (mostly) analytical solutions for rigid sliding block analyses with harmonic input.\n",
    "\n",
    "## Purpose\n",
    "During the development of the rigid block analysis for pyslammer, we discovered that the integration scheme we used was different than the one originally used in SLAMMER.\n",
    "The main difference is that our approach integrated the full acceleration, velocity, and displacement signals of the base and block, only finding the differential displacement at the end.\n",
    "Let's call this the \"absolute integration approach\" (AIA).\n",
    "SLAMMER's integration scheme subtracts the block acceleration from the base acceleration and integrates the $\\delta$ acceleration to find the $\\delta$ velocity and $\\delta$ displacement.\n",
    "Let's call this the \"difference integration approach\" (DIA).\n",
    "The DIA requires less computation, but also doesn't produce some of the resulting arrays that we'd like to see in the analysis output (e.g., absolute block and velocity).\n",
    "Even though DIA doesn't produce those results by default, it could be altered to produce them.\n",
    "\n",
    "Another difference between the methods is the numerical integration approach. \n",
    "Our AIA uses Velocity Verlet integration.\n",
    "SLAMMER's DIA uses trapezoidal integration.\n",
    "These differences are not inherent in the DIA/AIA differences.\n",
    "\n",
    "The larger issue is that DIA and AIA produce slightly different results that accumulate with increasing input acceleration to yield acceleration ratio, frequency, and duration.\n",
    "We suspect that AIA is a better approach than DIA, but we need a \"correct\" answer to compare both models to in order to confirm or deny our guess.\n",
    "\n",
    "The analytical solutions for rigid block analysis with harmonic input will provide the basis for judging whether DIA or AIA are more accurate.\n",
    "\n",
    "### Why Bother?\n",
    "Sliding block methods are known to be poor representations of the physical displacements of slopes during earthquakes, so they're really only used as an idex of displacement.\n",
    "One could argue that, since SLAMMER has been in use for many years and indicies are used to predict *relative* performance, it's more important for pyslammer to replicate SLAMMER's results than an analytical solution.\n",
    "\n",
    "So why even bother comparing these integration methods?\n",
    "The first reason is that it's interesting.\n",
    "The second reason, which actually addresses the reasoning behind the question, is that sliding block methods, flawed as they are, are still widely used in the earthquake geotechnical engineering community and continue to be developed and improved. \n",
    "We hope that improvements to sliding block methods from the engineering community will be incorporated into pyslammer through open-source contributions.\n",
    "Any such contributions should be able to take advantage of the best computational approximations available.\n",
    "However, even if pyslammer's default integration approach ends up varying from SLAMMER's, an optional \"compatability mode\" will be availalbe using DIA for use cases where comparison with previous SLAMMER output is important.\n",
    "\n",
    "\n",
    "## Approach\n",
    "The analytical model uses one cycle of a sine wave acceleration input ($\\ddot{u}_{base}$).\n",
    "The sine wave has input frequency, $f$ (Hz):\n",
    "\n",
    "$\\ddot{u}_{base}(t) = \\sin 2 \\pi f t $\n",
    "\n",
    "The start of sliding occurs at $t_1$, when $\\ddot{u}_{base}$ is equal to the yield acceleration, $k_y$. \n",
    "By definition, the slope of the input velocity signal ($\\dot{u}_{base}$) at this time is $\\ddot{u}_{base}(t_1) = k_y$.\n",
    "With this slope, and the cordinate ($t_1$,$\\dot{u}_{base}(t_1)$), we can find the equation for the block velocity ($\\dot{u}_{block}$) as:\n",
    "\n",
    "$\\dot{u}_{block}(t) = g k_y (t - t_1) - \\dot{u}_{base}(t_1)$\n",
    "\n",
    "The end of sliding occurs at $t_2$, when $\\dot{u}_{block}(t)$ is equal to $\\dot{u}_{base}(t)$. \n",
    "Unfortunately, solving for $t_2$ is non-trivial because it involves a transendental equation (it essentially boils down to $x = \\cos x$).\n",
    "The intersection between $\\dot{u}_{block}(t)$ and $\\dot{u}_{base}(t)$ can only be approximated numerically, which means the \"analytical\" solution presented here isn't truly analytical.\n",
    "But since we'll be solving with a numerical solver with a tolerance of $1e^{-15}$ seconds, and the AIA and DIA models typically work with signals on the order of $1e^{-3}$ seconds, the numerical portion of the \"analytical\" sliding block doesn't disqualify it from acting as a basis of comparing the AIA and DIA models.\n",
    "\n",
    "The analytical model only provides the accumulated displacement for a single cycle of motion.\n",
    "When compared to DIA and AIA simulations with longer duration, the results should be multiplied by the number of cycles in the longer simulation.\n",
    "The comparison is only valid if the number of cycles in the longer simulation is an integer value.\n",
    "\n",
    "### Parameters\n",
    "Two parameters control the analytical model behavior: $f$ and $k_y$.\n",
    "\n",
    "For comparison with numeric integration results, the analytical model solution is computed for:\n",
    "\n",
    "$f$ = `[0.5, 1, 2, 3, 4, 5, 6, 7, 8, 9, 10]`\n",
    "\n",
    "and\n",
    "\n",
    "$k_y$ = `[0, 0.2, 0.4, 0.6, 0.8, 1.0]`\n",
    "\n",
    "\n",
    "\n",
    "## Results\n",
    "Unknown...\n"
   ]
  },
  {
   "cell_type": "code",
   "execution_count": 17,
   "metadata": {},
   "outputs": [],
   "source": [
    "# Import libraries\n",
    "import pickle as pkl\n",
    "import numpy as np\n",
    "import sympy as sym\n",
    "sym.init_printing()"
   ]
  },
  {
   "cell_type": "code",
   "execution_count": 18,
   "id": "8ad2f3ce",
   "metadata": {},
   "outputs": [],
   "source": [
    "# Set up the parametric space\n",
    "frequencies = np.array([0.5,1, 2, 3, 4, 5, 6, 7, 8, 9, 10])\n",
    "yield_accelerations = np.array([0,0.2,0.4,0.6,0.8,1.0])\n",
    "combinations = np.array(np.meshgrid(frequencies, yield_accelerations)).T.reshape(-1, 2)\n"
   ]
  },
  {
   "cell_type": "code",
   "execution_count": 23,
   "id": "d3306762",
   "metadata": {},
   "outputs": [
    {
     "data": {
      "text/plain": [
       "nuprime"
      ]
     },
     "metadata": {},
     "output_type": "display_data"
    },
    {
     "data": {
      "text/plain": [
       "\\dot{u}_{base}"
      ]
     },
     "metadata": {},
     "output_type": "display_data"
    },
    {
     "data": {
      "text/plain": [
       "\\dot{u}_{block}"
      ]
     },
     "metadata": {},
     "output_type": "display_data"
    }
   ],
   "source": [
    "# Define symbols for analytical solution\n",
    "# Three kinds of symbols are used:\n",
    "# 1. Function names: the names of the functions as they would be written on the left-hand side of an equation. These are used purely for display purposes.\n",
    "#    Function names have a single underscore at the beginning of the name (e.g. _u  or _v)\n",
    "# 2. Function expressions: the definitions of functions using parameters. These are used to evaluate the functions.\n",
    "# 3. Parameters: variables and constants used to define functions\n",
    "\n",
    "\n",
    "# Define the function names\n",
    "_abase, _vbase, _vblock = sym.symbols('nuprime, \\dot{u}_{base}, \\dot{u}_{block}', cls=sym.Function)\n",
    "display(_abase, _vbase, _vblock)\n",
    "time, freq, g, ky = sym.symbols('t f g k_y', real=True, positive=True)\n",
    "t1, t2 = sym.symbols('t_1 t_2', real=True, positive=True)"
   ]
  },
  {
   "cell_type": "code",
   "execution_count": 4,
   "id": "352764ab",
   "metadata": {},
   "outputs": [
    {
     "data": {
      "image/png": "[encoded data removed]",
      "text/latex": [
       "$\\displaystyle \\sin{\\left(2 \\pi f t \\right)}$"
      ],
      "text/plain": [
       "sin(2⋅π⋅f⋅t)"
      ]
     },
     "metadata": {},
     "output_type": "display_data"
    },
    {
     "data": {
      "image/png": "[encoded data removed]",
      "text/latex": [
       "$\\displaystyle - \\frac{g \\cos{\\left(2 \\pi f t \\right)}}{2 \\pi f} + \\frac{g}{2 \\pi f}$"
      ],
      "text/plain": [
       "  g⋅cos(2⋅π⋅f⋅t)     g  \n",
       "- ────────────── + ─────\n",
       "      2⋅π⋅f        2⋅π⋅f"
      ]
     },
     "metadata": {},
     "output_type": "display_data"
    },
    {
     "data": {
      "image/png": "[encoded data removed]",
      "text/latex": [
       "$\\displaystyle \\frac{\\operatorname{asin}{\\left(k_{y} \\right)}}{2 \\pi f}$"
      ],
      "text/plain": [
       "asin(k_y)\n",
       "─────────\n",
       "  2⋅π⋅f  "
      ]
     },
     "metadata": {},
     "output_type": "display_data"
    }
   ],
   "source": [
    "a = sym.sin(freq*2*sym.pi*time)\n",
    "vo = g/2/sym.pi/freq#sym.symbols('v_o')#g*2*sym.pi\n",
    "v = g*sym.integrate(a, time) + vo\n",
    "t1 = sym.simplify(sym.solve(a-ky, time)[1])\n",
    "display(a,v,t1)"
   ]
  },
  {
   "cell_type": "code",
   "execution_count": 5,
   "id": "6a463b21",
   "metadata": {},
   "outputs": [
    {
     "data": {
      "image/png": "[encoded data removed]",
      "text/latex": [
       "$\\displaystyle - k_{y} + \\sin{\\left(2 \\pi f t \\right)}$"
      ],
      "text/plain": [
       "-k_y + sin(2⋅π⋅f⋅t)"
      ]
     },
     "execution_count": 5,
     "metadata": {},
     "output_type": "execute_result"
    }
   ],
   "source": [
    "a-ky"
   ]
  },
  {
   "cell_type": "code",
   "execution_count": 6,
   "id": "a971a369",
   "metadata": {},
   "outputs": [
    {
     "data": {
      "image/png": "[encoded data removed]",
      "text/latex": [
       "$\\displaystyle g k_{y} \\left(t - \\frac{\\operatorname{asin}{\\left(k_{y} \\right)}}{2 \\pi f}\\right) - \\frac{g \\sqrt{1 - k_{y}^{2}}}{2 \\pi f} + \\frac{g}{2 \\pi f}$"
      ],
      "text/plain": [
       "                             __________        \n",
       "                            ╱        2         \n",
       "      ⎛    asin(k_y)⎞   g⋅╲╱  1 - k_y       g  \n",
       "g⋅k_y⋅⎜t - ─────────⎟ - ─────────────── + ─────\n",
       "      ⎝      2⋅π⋅f  ⎠        2⋅π⋅f        2⋅π⋅f"
      ]
     },
     "metadata": {},
     "output_type": "display_data"
    }
   ],
   "source": [
    "vb = g*ky*(time-t1) + v.subs(time, t1)\n",
    "# vb = m(x-x1) + y1\n",
    "display(vb)"
   ]
  },
  {
   "cell_type": "code",
   "execution_count": 7,
   "id": "9710df76",
   "metadata": {},
   "outputs": [
    {
     "data": {
      "image/png": "[encoded data removed]",
      "text/latex": [
       "$\\displaystyle \\sin{\\left(2 \\pi f t \\right)}$"
      ],
      "text/plain": [
       "sin(2⋅π⋅f⋅t)"
      ]
     },
     "execution_count": 7,
     "metadata": {},
     "output_type": "execute_result"
    }
   ],
   "source": [
    "a"
   ]
  },
  {
   "cell_type": "code",
   "execution_count": 13,
   "id": "06d9278f",
   "metadata": {},
   "outputs": [
    {
     "data": {
      "image/png": "[encoded data removed]",
      "text/latex": [
       "$\\displaystyle 4.905 t - \\frac{0.626980602717499}{\\pi} = \\frac{9.81 \\sin^{2}{\\left(\\pi t \\right)}}{\\pi}$"
      ],
      "text/plain": [
       "                                      2     \n",
       "          0.626980602717499   9.81⋅sin (π⋅t)\n",
       "4.905⋅t - ───────────────── = ──────────────\n",
       "                  π                 π       "
      ]
     },
     "metadata": {},
     "output_type": "display_data"
    },
    {
     "data": {
      "image/png": "[encoded data removed]",
      "text/latex": [
       "$\\displaystyle \\frac{\\operatorname{asin}{\\left(k_{y} \\right)}}{2 \\pi f}$"
      ],
      "text/plain": [
       "asin(k_y)\n",
       "─────────\n",
       "  2⋅π⋅f  "
      ]
     },
     "metadata": {},
     "output_type": "display_data"
    },
    {
     "data": {
      "image/png": "[encoded data removed]",
      "text/latex": [
       "$\\displaystyle 0.607462891748798$"
      ],
      "text/plain": [
       "0.607462891748798"
      ]
     },
     "metadata": {},
     "output_type": "display_data"
    }
   ],
   "source": [
    "equation = sym.Eq(vb, v).subs(g, 9.81).subs(freq, 1).subs(ky, 0.5)\n",
    "display(sym.simplify(equation))\n",
    "t2 = sym.nsolve(equation, time, 2*np.pi)\n",
    "display(t1,t2)"
   ]
  },
  {
   "cell_type": "code",
   "execution_count": 9,
   "id": "432a895f",
   "metadata": {},
   "outputs": [
    {
     "data": {
      "image/png": "[encoded data removed]",
      "text/plain": [
       "<Figure size 640x480 with 1 Axes>"
      ]
     },
     "metadata": {},
     "output_type": "display_data"
    }
   ],
   "source": [
    "tmax = 2\n",
    "v_def = v.subs(g, 9.81).subs(freq, 1)\n",
    "vb_def = vb.subs(g, 9.81).subs(freq, 1).subs(ky, 0.5)\n",
    "t1_def = t1.subs(freq, 1).subs(ky, 0.5)\n",
    "p1 = sym.plot(v_def, (time, 0, tmax),xlim=(0, tmax), ylim=(-10, 10), show=False)\n",
    "p2 = sym.plot(vb_def, (time, t1_def, t2), show=False)\n",
    "# p3 = sym.plot(a.subs(freq,1), (time, 0, 20*np.pi), show=False)\n",
    "p1.extend(p2)\n",
    "# p1.extend(p3)\n",
    "p1.show()"
   ]
  },
  {
   "cell_type": "code",
   "execution_count": 19,
   "id": "a08054ff",
   "metadata": {},
   "outputs": [
    {
     "data": {
      "image/png": "[encoded data removed]",
      "text/latex": [
       "$\\displaystyle 0.314529337921181$"
      ],
      "text/plain": [
       "0.314529337921181"
      ]
     },
     "execution_count": 19,
     "metadata": {},
     "output_type": "execute_result"
    }
   ],
   "source": [
    "t1_def_val = float(t1_def)\n",
    "t2_val = float(t2)\n",
    "xb = sym.Integral(vb_def, (time, t1_def_val, t2_val))\n",
    "x = sym.Integral(v_def, (time, t1_def_val, t2_val))\n",
    "dx = x - xb\n",
    "dx_val = dx.evalf()\n",
    "dx_val"
   ]
  },
  {
   "cell_type": "code",
   "execution_count": 14,
   "id": "4ac0047f",
   "metadata": {},
   "outputs": [],
   "source": [
    "def create_harmonic_input_files(freq, resolution, cycles=10):\n",
    "    duration = cycles/freq\n",
    "    t = np.linspace(0, duration, int(duration*resolution*cycles))\n",
    "    a = np.sin(np.pi*2*freq*t)\n",
    "    data = np.column_stack((t, a))\n",
    "    np.savetxt(f'sample_ground_motions/sine_{freq}_Hz_{resolution*freq}_sps.csv', data, delimiter=',', header=f'# Time Series: {freq} Hz sine wave \\n # Time (s),Acceleration (g)')\n",
    "\n",
    "def find_harmonic_solution(freq, ky, amax = 1, g = 9.81, plot=True):\n",
    "        time, freq, g, ky = sym.symbols('t f g k_y', real=True, positive=True)\n",
    "        t1, t2 = sym.symbols('t_1 t_2', real=True, positive=True)\n",
    "\n",
    "        a = sym.sin(freq*2*sym.pi*time)\n",
    "        vo = g/2/sym.pi/freq#sym.symbols('v_o')#g*2*sym.pi\n",
    "        v = g*sym.integrate(a, time) + vo\n",
    "        t1 = sym.simplify(sym.solve(a-ky, time)[1])\n",
    "\n",
    "        vb = g*ky*(time-t1) + v.subs(time, t1)\n",
    "\n",
    "        equation = sym.Eq(vb, v).subs(g, g).subs(freq, freq).subs(ky, ky)\n",
    "        t2 = sym.nsolve(equation, time, 2*np.pi)\n",
    "\n",
    "        t1_def = t1.subs(freq, freq).subs(ky, ky)\n",
    "        t1_def_val = float(t1_def)\n",
    "        t2_val = float(t2)\n",
    "        vb_def = vb.subs(g, g).subs(freq, freq).subs(ky, ky)\n",
    "        x = sym.Integral(v, (time, t1_def_val, t2_val))\n",
    "        xb = sym.Integral(vb_def, (time, t1_def_val, t2_val))\n",
    "        dx = x - xb\n",
    "        dx_val = dx.evalf()\n",
    "        return dx_val\n",
    "\n",
    "def harmonic_solution_plot(a, ky, v, vb, dx, t1, t2, save=True):\n",
    "    p1 = sym.plot(v, (time, 0, 20), show=False)\n",
    "    p2 = sym.plot(vb, (time, t1, t2), show=False)\n",
    "    p1.extend(p2)\n",
    "    p1.show()\n",
    "\n",
    "    p1 = sym.plot(vb, (time, t1, t2), show=False)\n",
    "    p1.show()\n",
    "\n",
    "    p1 = sym.plot(a, (time, 0, 20), show=False)\n",
    "    p1.show()\n",
    "\n",
    "    p1 = sym.plot(dx, (time, t1, t2), show=False)\n",
    "    p1.show()"
   ]
  },
  {
   "cell_type": "code",
   "execution_count": 25,
   "id": "4785de02",
   "metadata": {},
   "outputs": [
    {
     "ename": "NameError",
     "evalue": "name 't' is not defined",
     "output_type": "error",
     "traceback": [
      "\u001b[0;31m---------------------------------------------------------------------------\u001b[0m",
      "\u001b[0;31mNameError\u001b[0m                                 Traceback (most recent call last)",
      "Cell \u001b[0;32mIn[25], line 8\u001b[0m\n\u001b[1;32m      5\u001b[0m a \u001b[38;5;241m=\u001b[39m x\u001b[38;5;241m*\u001b[39m\u001b[38;5;241m*\u001b[39m\u001b[38;5;241m2\u001b[39m\n\u001b[1;32m      7\u001b[0m \u001b[38;5;66;03m# Define the equation\u001b[39;00m\n\u001b[0;32m----> 8\u001b[0m equation \u001b[38;5;241m=\u001b[39m sym\u001b[38;5;241m.\u001b[39mEq(a(t), ky)\n\u001b[1;32m     10\u001b[0m \u001b[38;5;66;03m# Display the equation\u001b[39;00m\n\u001b[1;32m     11\u001b[0m sym\u001b[38;5;241m.\u001b[39mpprint(equation)\n",
      "\u001b[0;31mNameError\u001b[0m: name 't' is not defined"
     ]
    }
   ],
   "source": [
    "# Define the symbols\n",
    "x, ky = sym.symbols('x ky')\n",
    "\n",
    "# Define a\n",
    "a = x**2\n",
    "\n",
    "# Define the equation\n",
    "equation = sym.Eq(a, ky)\n",
    "\n",
    "# Display the equation\n",
    "sym.pprint(equation)"
   ]
  },
  {
   "cell_type": "code",
   "execution_count": null,
   "id": "48b27a8f",
   "metadata": {},
   "outputs": [],
   "source": []
  }
 ],
 "metadata": {
  "kernelspec": {
   "display_name": "base",
   "language": "python",
   "name": "python3"
  },
  "language_info": {
   "codemirror_mode": {
    "name": "ipython",
    "version": 3
   },
   "file_extension": ".py",
   "mimetype": "text/x-python",
   "name": "python",
   "nbconvert_exporter": "python",
   "pygments_lexer": "ipython3",
   "version": "3.11.8"
  }
 },
 "nbformat": 4,
 "nbformat_minor": 5
}
